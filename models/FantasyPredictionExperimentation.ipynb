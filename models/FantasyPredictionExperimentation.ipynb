{
 "cells": [
  {
   "cell_type": "code",
   "execution_count": 124,
   "metadata": {
    "collapsed": false
   },
   "outputs": [],
   "source": [
    "%matplotlib inline\n",
    "\n",
    "import math\n",
    "import matplotlib.pyplot as plt \n",
    "import numpy as np \n",
    "import pandas as pd \n",
    "import seaborn as sns\n",
    "import statsmodels.api as sm\n",
    "import statsmodels.formula.api as smf\n",
    "\n",
    "from sklearn import linear_model, cross_validation, metrics\n",
    "from sklearn import feature_selection as fs\n",
    "from sklearn import preprocessing\n",
    "\n",
    "# data from 1985-2014\n",
    "df = pd.read_csv('../data/cleanedSeasonStats.csv')\n",
    "for col in df.columns:\n",
    "    if 'Unnamed' in col or col[-1] == '-': # meaningless columns\n",
    "        del df[col]\n",
    "        \n",
    "# Scikit breaks with NaNs, replace with 0s\n",
    "df.fillna(0, inplace=True)"
   ]
  },
  {
   "cell_type": "code",
   "execution_count": 125,
   "metadata": {
    "collapsed": false
   },
   "outputs": [
    {
     "data": {
      "text/html": [
       "<div>\n",
       "<table border=\"1\" class=\"dataframe\">\n",
       "  <thead>\n",
       "    <tr style=\"text-align: right;\">\n",
       "      <th></th>\n",
       "      <th>year</th>\n",
       "      <th>player</th>\n",
       "      <th>totals-Rk</th>\n",
       "      <th>totals-Pos</th>\n",
       "      <th>totals-Age</th>\n",
       "      <th>totals-Tm</th>\n",
       "      <th>totals-G</th>\n",
       "      <th>totals-GS</th>\n",
       "      <th>totals-MP</th>\n",
       "      <th>totals-FG</th>\n",
       "      <th>...</th>\n",
       "      <th>advanced-OWS</th>\n",
       "      <th>advanced-DWS</th>\n",
       "      <th>advanced-WS</th>\n",
       "      <th>advanced-WS/48</th>\n",
       "      <th>advanced-OBPM</th>\n",
       "      <th>advanced-DBPM</th>\n",
       "      <th>advanced-BPM</th>\n",
       "      <th>advanced-VORP</th>\n",
       "      <th>curr-eff</th>\n",
       "      <th>next-eff</th>\n",
       "    </tr>\n",
       "  </thead>\n",
       "  <tbody>\n",
       "    <tr>\n",
       "      <th>0</th>\n",
       "      <td>1985</td>\n",
       "      <td>Kareem Abdul-Jabbar</td>\n",
       "      <td>1</td>\n",
       "      <td>C</td>\n",
       "      <td>37</td>\n",
       "      <td>LAL</td>\n",
       "      <td>79</td>\n",
       "      <td>79</td>\n",
       "      <td>2630</td>\n",
       "      <td>723</td>\n",
       "      <td>...</td>\n",
       "      <td>7.6</td>\n",
       "      <td>3.6</td>\n",
       "      <td>11.2</td>\n",
       "      <td>0.204</td>\n",
       "      <td>3.6</td>\n",
       "      <td>1.3</td>\n",
       "      <td>4.9</td>\n",
       "      <td>4.6</td>\n",
       "      <td>26.1</td>\n",
       "      <td>24.2</td>\n",
       "    </tr>\n",
       "    <tr>\n",
       "      <th>1</th>\n",
       "      <td>1985</td>\n",
       "      <td>Alvan Adams</td>\n",
       "      <td>2</td>\n",
       "      <td>PF</td>\n",
       "      <td>30</td>\n",
       "      <td>PHO</td>\n",
       "      <td>82</td>\n",
       "      <td>69</td>\n",
       "      <td>2136</td>\n",
       "      <td>476</td>\n",
       "      <td>...</td>\n",
       "      <td>3.5</td>\n",
       "      <td>3.3</td>\n",
       "      <td>6.8</td>\n",
       "      <td>0.152</td>\n",
       "      <td>2.3</td>\n",
       "      <td>2.1</td>\n",
       "      <td>4.4</td>\n",
       "      <td>3.5</td>\n",
       "      <td>18.3</td>\n",
       "      <td>15.5</td>\n",
       "    </tr>\n",
       "    <tr>\n",
       "      <th>2</th>\n",
       "      <td>1985</td>\n",
       "      <td>Mark Aguirre</td>\n",
       "      <td>3</td>\n",
       "      <td>SF</td>\n",
       "      <td>25</td>\n",
       "      <td>DAL</td>\n",
       "      <td>80</td>\n",
       "      <td>79</td>\n",
       "      <td>2699</td>\n",
       "      <td>794</td>\n",
       "      <td>...</td>\n",
       "      <td>5.3</td>\n",
       "      <td>1.9</td>\n",
       "      <td>7.2</td>\n",
       "      <td>0.128</td>\n",
       "      <td>3.6</td>\n",
       "      <td>-1.9</td>\n",
       "      <td>1.7</td>\n",
       "      <td>2.5</td>\n",
       "      <td>21.2</td>\n",
       "      <td>20.1</td>\n",
       "    </tr>\n",
       "    <tr>\n",
       "      <th>3</th>\n",
       "      <td>1985</td>\n",
       "      <td>Danny Ainge</td>\n",
       "      <td>4</td>\n",
       "      <td>SG</td>\n",
       "      <td>25</td>\n",
       "      <td>BOS</td>\n",
       "      <td>75</td>\n",
       "      <td>73</td>\n",
       "      <td>2564</td>\n",
       "      <td>419</td>\n",
       "      <td>...</td>\n",
       "      <td>3.9</td>\n",
       "      <td>2.8</td>\n",
       "      <td>6.6</td>\n",
       "      <td>0.124</td>\n",
       "      <td>1.3</td>\n",
       "      <td>0.4</td>\n",
       "      <td>1.7</td>\n",
       "      <td>2.4</td>\n",
       "      <td>16.3</td>\n",
       "      <td>13.8</td>\n",
       "    </tr>\n",
       "    <tr>\n",
       "      <th>4</th>\n",
       "      <td>1985</td>\n",
       "      <td>Ron Anderson</td>\n",
       "      <td>7</td>\n",
       "      <td>SF</td>\n",
       "      <td>26</td>\n",
       "      <td>CLE</td>\n",
       "      <td>36</td>\n",
       "      <td>7</td>\n",
       "      <td>520</td>\n",
       "      <td>84</td>\n",
       "      <td>...</td>\n",
       "      <td>0.0</td>\n",
       "      <td>0.3</td>\n",
       "      <td>0.3</td>\n",
       "      <td>0.032</td>\n",
       "      <td>-2.4</td>\n",
       "      <td>-1.0</td>\n",
       "      <td>-3.5</td>\n",
       "      <td>-0.2</td>\n",
       "      <td>5.3</td>\n",
       "      <td>9.7</td>\n",
       "    </tr>\n",
       "  </tbody>\n",
       "</table>\n",
       "<p>5 rows × 146 columns</p>\n",
       "</div>"
      ],
      "text/plain": [
       "   year               player  totals-Rk totals-Pos  totals-Age totals-Tm  \\\n",
       "0  1985  Kareem Abdul-Jabbar          1          C          37       LAL   \n",
       "1  1985          Alvan Adams          2         PF          30       PHO   \n",
       "2  1985         Mark Aguirre          3         SF          25       DAL   \n",
       "3  1985          Danny Ainge          4         SG          25       BOS   \n",
       "4  1985         Ron Anderson          7         SF          26       CLE   \n",
       "\n",
       "   totals-G  totals-GS  totals-MP  totals-FG    ...     advanced-OWS  \\\n",
       "0        79         79       2630        723    ...              7.6   \n",
       "1        82         69       2136        476    ...              3.5   \n",
       "2        80         79       2699        794    ...              5.3   \n",
       "3        75         73       2564        419    ...              3.9   \n",
       "4        36          7        520         84    ...              0.0   \n",
       "\n",
       "   advanced-DWS  advanced-WS  advanced-WS/48  advanced-OBPM  advanced-DBPM  \\\n",
       "0           3.6         11.2           0.204            3.6            1.3   \n",
       "1           3.3          6.8           0.152            2.3            2.1   \n",
       "2           1.9          7.2           0.128            3.6           -1.9   \n",
       "3           2.8          6.6           0.124            1.3            0.4   \n",
       "4           0.3          0.3           0.032           -2.4           -1.0   \n",
       "\n",
       "   advanced-BPM  advanced-VORP  curr-eff  next-eff  \n",
       "0           4.9            4.6      26.1      24.2  \n",
       "1           4.4            3.5      18.3      15.5  \n",
       "2           1.7            2.5      21.2      20.1  \n",
       "3           1.7            2.4      16.3      13.8  \n",
       "4          -3.5           -0.2       5.3       9.7  \n",
       "\n",
       "[5 rows x 146 columns]"
      ]
     },
     "execution_count": 125,
     "metadata": {},
     "output_type": "execute_result"
    }
   ],
   "source": [
    "df.head()"
   ]
  },
  {
   "cell_type": "code",
   "execution_count": 126,
   "metadata": {
    "collapsed": false
   },
   "outputs": [],
   "source": [
    "# Get features columns that don't overlap \n",
    "def is_redundant(col):\n",
    "    return 'totals' in col or 'per_game' in col or 'per_minute' in col\n",
    "\n",
    "# use only per-possession features\n",
    "similar_features = set(filter(lambda col: is_redundant(col), df.columns.values))\n",
    "# some advanced stats == per-100 stats, so remove\n",
    "redundant = set(['advanced-Age','advanced-G','advanced-MP'])\n",
    "\n",
    "# define features\n",
    "useless_features = set(['year','player','totals-Rk','totals-Pos','totals-Tm','per_game-Rk','per_game-Pos','per_game-Tm','per_minute-Rk','per_minute-Pos','per_minute-Tm','per_poss-Rk','per_poss-Pos','per_poss-Tm','advanced-Rk','advanced-Pos','advanced-Tm'])\n",
    "bias_features = set(['next-eff'])\n",
    "feature_cols = list(set(df.columns)-useless_features-bias_features-similar_features-redundant)\n",
    "\n",
    "data = df[feature_cols]\n",
    "#data = pd.DataFrame(preprocessing.MinMaxScaler().fit_transform(data), columns=data.columns)\n",
    "\n",
    "# Get y\n",
    "target = df['next-eff']"
   ]
  },
  {
   "cell_type": "code",
   "execution_count": 134,
   "metadata": {
    "collapsed": false
   },
   "outputs": [
    {
     "name": "stdout",
     "output_type": "stream",
     "text": [
      "Linear Regression standard features: 0.740990262838\n"
     ]
    }
   ],
   "source": [
    "# Standard linear regression\n",
    "lin_reg = linear_model.LinearRegression(normalize=True)\n",
    "lin_reg.fit(data,target)\n",
    "kfold = cross_validation.KFold(len(target), n_folds=5, shuffle=True)\n",
    "print \"Linear Regression standard features: {}\".format(cross_validation.cross_val_score(lin_reg, data, target, cv=kfold, scoring='r2').mean())"
   ]
  },
  {
   "cell_type": "code",
   "execution_count": 128,
   "metadata": {
    "collapsed": false
   },
   "outputs": [
    {
     "data": {
      "text/plain": [
       "[('advanced-WS/48', 17.891038357551373),\n",
       " ('advanced-TS%', -6.0142328819555742),\n",
       " ('advanced-STL%', -3.6769204610583017),\n",
       " ('per_poss-STL', 3.6759937765596535),\n",
       " ('per_poss-FG%', -2.0418409318655923),\n",
       " ('advanced-WS', 1.2450863028161969),\n",
       " ('advanced-OWS', -1.2214382035245412),\n",
       " ('per_poss-TRB', -1.068524935010343),\n",
       " ('advanced-DWS', -1.0341205725760108),\n",
       " ('per_poss-DRB', 0.91634568363996793),\n",
       " ('per_poss-FG', 0.86786098791226685),\n",
       " ('curr-eff', 0.81463973496940023),\n",
       " ('per_poss-2P%', 0.740718357724932),\n",
       " ('advanced-3PAr', 0.72618037409744352),\n",
       " ('advanced-FTr', 0.69012507602921891)]"
      ]
     },
     "execution_count": 128,
     "metadata": {},
     "output_type": "execute_result"
    }
   ],
   "source": [
    "coefficients = sorted([(feature_cols[i], lin_reg.coef_[i]) for i in range(len(feature_cols))], key=lambda tup: abs(tup[1]), reverse=True)\n",
    "t = filter(lambda tup: abs(tup[1]) != 0, coefficients)\n",
    "t[:15]"
   ]
  },
  {
   "cell_type": "code",
   "execution_count": 132,
   "metadata": {
    "collapsed": false
   },
   "outputs": [
    {
     "name": "stdout",
     "output_type": "stream",
     "text": [
      "Lasso standard features: 0.740405857171\n"
     ]
    }
   ],
   "source": [
    "lasso = linear_model.LassoCV(max_iter=5000, normalize=True, cv=5)\n",
    "lasso.fit(data, target)\n",
    "\n",
    "# 5-fold Cross Validation\n",
    "kfold = cross_validation.KFold(len(target), n_folds=5, shuffle=True)\n",
    "print \"Lasso standard features: {}\".format(cross_validation.cross_val_score(lasso, data, target, cv=kfold, scoring='r2').mean())"
   ]
  },
  {
   "cell_type": "code",
   "execution_count": 133,
   "metadata": {
    "collapsed": false
   },
   "outputs": [
    {
     "data": {
      "text/plain": [
       "[('advanced-TS%', -5.5819418582255516),\n",
       " ('advanced-WS/48', 5.1442903195585314),\n",
       " ('curr-eff', 0.78729933165804311),\n",
       " ('advanced-FTr', 0.41220480557687261),\n",
       " ('per_poss-3P%', -0.24803926700194612),\n",
       " ('advanced-VORP', 0.24328890440049392),\n",
       " ('per_poss-Age', -0.234335050220186),\n",
       " ('per_poss-TOV', 0.18970398495209673),\n",
       " ('per_poss-AST', 0.18596220298434157),\n",
       " ('per_poss-2P%', 0.17930777324885874),\n",
       " ('advanced-DWS', 0.16391259199680991),\n",
       " ('per_poss-PF', -0.085454702946412081),\n",
       " ('advanced-USG%', 0.079345329761370625),\n",
       " ('advanced-WS', 0.078827727108910894),\n",
       " ('advanced-PER', -0.067098467446330939)]"
      ]
     },
     "execution_count": 133,
     "metadata": {},
     "output_type": "execute_result"
    }
   ],
   "source": [
    "coefficients = sorted([(feature_cols[i], lasso.coef_[i]) for i in range(len(feature_cols))], key=lambda tup: abs(tup[1]), reverse=True)\n",
    "t = filter(lambda tup: abs(tup[1]) != 0, coefficients)\n",
    "t[:15]"
   ]
  },
  {
   "cell_type": "code",
   "execution_count": null,
   "metadata": {
    "collapsed": true
   },
   "outputs": [],
   "source": []
  }
 ],
 "metadata": {
  "kernelspec": {
   "display_name": "Python 2",
   "language": "python",
   "name": "python2"
  },
  "language_info": {
   "codemirror_mode": {
    "name": "ipython",
    "version": 2
   },
   "file_extension": ".py",
   "mimetype": "text/x-python",
   "name": "python",
   "nbconvert_exporter": "python",
   "pygments_lexer": "ipython2",
   "version": "2.7.11"
  }
 },
 "nbformat": 4,
 "nbformat_minor": 0
}
